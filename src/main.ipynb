{
 "cells": [
  {
   "cell_type": "code",
   "execution_count": 1,
   "metadata": {},
   "outputs": [],
   "source": [
    "from exp3_main import main"
   ]
  },
  {
   "cell_type": "code",
   "execution_count": 2,
   "metadata": {
    "scrolled": false
   },
   "outputs": [
    {
     "name": "stderr",
     "output_type": "stream",
     "text": [
      "C:\\Users\\cheew\\anaconda3\\lib\\site-packages\\xgboost\\sklearn.py:1224: UserWarning: The use of label encoder in XGBClassifier is deprecated and will be removed in a future release. To remove this warning, do the following: 1) Pass option use_label_encoder=False when constructing XGBClassifier object; and 2) Encode your labels (y) as integers starting with 0, i.e. 0, 1, 2, ..., [num_class - 1].\n",
      "  warnings.warn(label_encoder_deprecation_msg, UserWarning)\n",
      "C:\\Users\\cheew\\anaconda3\\lib\\site-packages\\xgboost\\sklearn.py:1224: UserWarning: The use of label encoder in XGBClassifier is deprecated and will be removed in a future release. To remove this warning, do the following: 1) Pass option use_label_encoder=False when constructing XGBClassifier object; and 2) Encode your labels (y) as integers starting with 0, i.e. 0, 1, 2, ..., [num_class - 1].\n",
      "  warnings.warn(label_encoder_deprecation_msg, UserWarning)\n",
      "C:\\Users\\cheew\\anaconda3\\lib\\site-packages\\xgboost\\sklearn.py:1224: UserWarning: The use of label encoder in XGBClassifier is deprecated and will be removed in a future release. To remove this warning, do the following: 1) Pass option use_label_encoder=False when constructing XGBClassifier object; and 2) Encode your labels (y) as integers starting with 0, i.e. 0, 1, 2, ..., [num_class - 1].\n",
      "  warnings.warn(label_encoder_deprecation_msg, UserWarning)\n"
     ]
    },
    {
     "name": "stdout",
     "output_type": "stream",
     "text": [
      "BaseLine with Logistic Regression Summary\n",
      "\n",
      "[[254  39]\n",
      " [ 46 121]]\n",
      "              precision    recall  f1-score   support\n",
      "\n",
      "         0.0       0.85      0.87      0.86       293\n",
      "         1.0       0.76      0.72      0.74       167\n",
      "\n",
      "    accuracy                           0.82       460\n",
      "   macro avg       0.80      0.80      0.80       460\n",
      "weighted avg       0.81      0.82      0.81       460\n",
      "\n",
      "\n",
      "BaseLine with XGBoost Summary\n",
      "\n",
      "[[257  36]\n",
      " [ 35 132]]\n",
      "              precision    recall  f1-score   support\n",
      "\n",
      "         0.0       0.88      0.88      0.88       293\n",
      "         1.0       0.79      0.79      0.79       167\n",
      "\n",
      "    accuracy                           0.85       460\n",
      "   macro avg       0.83      0.83      0.83       460\n",
      "weighted avg       0.85      0.85      0.85       460\n",
      "\n",
      "ADASYN with Logistic Regression Summary\n",
      "\n",
      "[[250  43]\n",
      " [ 43 124]]\n",
      "              precision    recall  f1-score   support\n",
      "\n",
      "         0.0       0.85      0.85      0.85       293\n",
      "         1.0       0.74      0.74      0.74       167\n",
      "\n",
      "    accuracy                           0.81       460\n",
      "   macro avg       0.80      0.80      0.80       460\n",
      "weighted avg       0.81      0.81      0.81       460\n",
      "\n",
      "\n",
      "ADASYN with XGBoost Summary\n",
      "\n",
      "[[250  43]\n",
      " [ 30 137]]\n",
      "              precision    recall  f1-score   support\n",
      "\n",
      "         0.0       0.89      0.85      0.87       293\n",
      "         1.0       0.76      0.82      0.79       167\n",
      "\n",
      "    accuracy                           0.84       460\n",
      "   macro avg       0.83      0.84      0.83       460\n",
      "weighted avg       0.85      0.84      0.84       460\n",
      "\n",
      "\n",
      "SMOTE with Logistic Regression Summary\n",
      "\n",
      "[[253  40]\n",
      " [ 45 122]]\n",
      "              precision    recall  f1-score   support\n",
      "\n",
      "         0.0       0.85      0.86      0.86       293\n",
      "         1.0       0.75      0.73      0.74       167\n",
      "\n",
      "    accuracy                           0.82       460\n",
      "   macro avg       0.80      0.80      0.80       460\n",
      "weighted avg       0.81      0.82      0.81       460\n",
      "\n",
      "\n",
      "SMOTE with XGBoost Summary\n",
      "\n",
      "[[254  39]\n",
      " [ 36 131]]\n",
      "              precision    recall  f1-score   support\n",
      "\n",
      "         0.0       0.88      0.87      0.87       293\n",
      "         1.0       0.77      0.78      0.78       167\n",
      "\n",
      "    accuracy                           0.84       460\n",
      "   macro avg       0.82      0.83      0.82       460\n",
      "weighted avg       0.84      0.84      0.84       460\n",
      "\n"
     ]
    }
   ],
   "source": [
    "main()"
   ]
  }
 ],
 "metadata": {
  "kernelspec": {
   "display_name": "Python 3",
   "language": "python",
   "name": "python3"
  },
  "language_info": {
   "codemirror_mode": {
    "name": "ipython",
    "version": 3
   },
   "file_extension": ".py",
   "mimetype": "text/x-python",
   "name": "python",
   "nbconvert_exporter": "python",
   "pygments_lexer": "ipython3",
   "version": "3.8.8"
  }
 },
 "nbformat": 4,
 "nbformat_minor": 2
}
